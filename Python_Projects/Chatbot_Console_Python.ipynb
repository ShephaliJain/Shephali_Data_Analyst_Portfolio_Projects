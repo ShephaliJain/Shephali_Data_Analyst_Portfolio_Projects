{
  "nbformat": 4,
  "nbformat_minor": 0,
  "metadata": {
    "colab": {
      "name": "Untitled6.ipynb",
      "provenance": []
    },
    "kernelspec": {
      "name": "python3",
      "display_name": "Python 3"
    },
    "language_info": {
      "name": "python"
    }
  },
  "cells": [
    {
      "cell_type": "markdown",
      "source": [
        "## **Chat bot development using Python**\n",
        "\n",
        "This notebook has a basic bot to try python functions and how to leverage basic logics for interactive bot building. "
      ],
      "metadata": {
        "id": "FsiICWSwGvMk"
      }
    },
    {
      "cell_type": "code",
      "execution_count": 9,
      "metadata": {
        "colab": {
          "base_uri": "https://localhost:8080/"
        },
        "id": "FFUQv7lBGpPp",
        "outputId": "cadf302a-627b-4571-b75e-811c32ac6672"
      },
      "outputs": [
        {
          "output_type": "stream",
          "name": "stdout",
          "text": [
            "Hello! My name is Happy.\n",
            "I have been created recently in 2022.\n",
            "Lets catchup friend! What should I call you?\n",
            "hdj\n",
            "What a great name you have, hdj!\n",
            "Let me guess your age. Do not worry, I won't add more years than your actual age ;-)\n",
            "Enter remainders of dividing your age by 3, 5 and 7 -> one by one please\n",
            "2\n",
            "4\n",
            "1\n",
            "Your age is 29; that's a good time to start programming!\n",
            "Lets have fun, tell me a number and I will count till that number for you!\n",
            "Come on! Let me revise too!\n",
            "5\n",
            "0 !\n",
            "1 !\n",
            "2 !\n",
            "3 !\n",
            "4 !\n",
            "5 !\n",
            "Let me ask you some basic stuff about programming.\n",
            "Why do we use methods?\n",
            "1. To repeat a statement multiple times.\n",
            "2. To decompose a program into several small subroutines.\n",
            "3. To determine the execution time of a program.\n",
            "4. To interrupt the execution of a program.\n",
            "So, which of the options make you feel -> \"Yes, thats the one!\"\n",
            "2\n",
            "Congratulations,You are right! It was nice to see you!\n",
            " Have a great day!\n"
          ]
        }
      ],
      "source": [
        "def greet(bot_name, birth_year):\n",
        "    print('Hello! My name is ' + bot_name + '.')\n",
        "    print('I have been created recently in ' + birth_year + '.')\n",
        "\n",
        "\n",
        "def remind_name():\n",
        "    print('Lets catchup friend! What should I call you?')\n",
        "    name = input()\n",
        "    print('What a great name you have, ' + name + '!')\n",
        "\n",
        "\n",
        "def guess_age():\n",
        "    print(\"Let me guess your age. Do not worry, I won't add more years than your actual age ;-)\")\n",
        "    print('Enter remainders of dividing your age by 3, 5 and 7 -> one by one please')\n",
        "\n",
        "    rem3 = int(input())\n",
        "    rem5 = int(input())\n",
        "    rem7 = int(input())\n",
        "    age = (rem3 * 70 + rem5 * 21 + rem7 * 15) % 105\n",
        "\n",
        "    print(\"Your age is \" + str(age) + \"; that's a good time to start programming!\")\n",
        "\n",
        "\n",
        "def count():\n",
        "    print('Lets have fun, tell me a number and I will count till that number for you!\\nCome on! Let me revise too!')\n",
        "\n",
        "    num = int(input())\n",
        "    curr = 0\n",
        "    while curr <= num:\n",
        "        print(curr, '!')\n",
        "        curr = curr + 1\n",
        "\n",
        "\n",
        "def test():\n",
        "    print(\"Let me ask you some basic stuff about programming.\")\n",
        "\n",
        "    print('Why do we use methods?')\n",
        "    print('1. To repeat a statement multiple times.')\n",
        "    print('2. To decompose a program into several small subroutines.')\n",
        "    print('3. To determine the execution time of a program.')\n",
        "    print('4. To interrupt the execution of a program.')\n",
        "    print('So, which of the options make you feel -> \"Yes, thats the one!\"')\n",
        "\n",
        "    possible_answer = 0\n",
        "    while possible_answer != 2:\n",
        "        possible_answer = int(input())\n",
        "        if possible_answer != 2:\n",
        "            print('Please, try again.')\n",
        "\n",
        "\n",
        "def end():\n",
        "    print('Congratulations,You are right! It was nice to see you!\\n Have a great day!')\n",
        "\n",
        "\n",
        "greet('Happy', '2022')  # change it as you need\n",
        "remind_name()\n",
        "guess_age()\n",
        "count()\n",
        "# ...\n",
        "test()\n",
        "end()\n"
      ]
    }
  ]
}