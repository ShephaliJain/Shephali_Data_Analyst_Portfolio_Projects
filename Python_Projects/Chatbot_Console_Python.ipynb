{
  "nbformat": 4,
  "nbformat_minor": 0,
  "metadata": {
    "colab": {
      "name": "Chatbot_Console_Python.ipynb",
      "provenance": []
    },
    "kernelspec": {
      "name": "python3",
      "display_name": "Python 3"
    },
    "language_info": {
      "name": "python"
    }
  },
  "cells": [
    {
      "cell_type": "markdown",
      "source": [
        "## **Chat Bot Development Using Python**\n",
        "\n",
        "This notebook has a basic bot to try python functions and how to leverage basic logics for interactive bot building. Try out and HAVE FUN!! "
      ],
      "metadata": {
        "id": "FsiICWSwGvMk"
      }
    },
    {
      "cell_type": "code",
      "execution_count": 1,
      "metadata": {
        "colab": {
          "base_uri": "https://localhost:8080/"
        },
        "id": "FFUQv7lBGpPp",
        "outputId": "b408d973-22b4-4a52-98e1-bcba5b352ca6"
      },
      "outputs": [
        {
          "output_type": "stream",
          "name": "stdout",
          "text": [
            "Hello! My name is Happy_Volley!\n",
            "\n",
            "I have been created recently in: April 2022!\n",
            " Yepp, Before you ask, Bday Celebration was grrrrrreat :D\n",
            "\n",
            "Lets catchup friend! What should I call you?\n",
            "Shephali\n",
            "\n",
            "What a great name you have, Shephali!\n",
            "\n",
            "Let me guess your age. Do not worry, I won't add more years than your actual age ;-)\n",
            "\n",
            "Enter remainders of dividing your age by 3, 5 and 7 -> one by one please\n",
            "2\n",
            "4\n",
            "1\n",
            "\n",
            "Your age is 29; that's a good time to start programming!\n",
            "\n",
            "Lets have fun, tell me a number and I will count till that number for you!\n",
            "Come on! Let me revise too!\n",
            "11\n",
            "0 !\n",
            "1 !\n",
            "2 !\n",
            "3 !\n",
            "4 !\n",
            "5 !\n",
            "6 !\n",
            "7 !\n",
            "8 !\n",
            "9 !\n",
            "10 !\n",
            "11 !\n",
            "\n",
            "Let me ask you some basic stuff about programming.\n",
            "\n",
            "Why do we use methods?\n",
            "1. To repeat a statement multiple times.\n",
            "2. To decompose a program into several small subroutines.\n",
            "3. To determine the execution time of a program.\n",
            "4. To interrupt the execution of a program.\n",
            "So, which of the options make you feel -> \"Yes, thats the one!\"\n",
            "2\n",
            "\n",
            "Congratulations,You are right! It was nice to see you!\n",
            " Have a great day!\n"
          ]
        }
      ],
      "source": [
        "def greet(bot_name, birth_year):\n",
        "    print('Hello! My name is ' + bot_name + '!')\n",
        "    print('\\nI have been created recently in: April ' + birth_year + '!' + '\\n Yepp, Before you ask, Bday Celebration was grrrrrreat :D')\n",
        "\n",
        "\n",
        "def remind_name():\n",
        "    print('\\nLets catchup friend! What should I call you?')\n",
        "    name = input()\n",
        "    print('\\nWhat a great name you have, ' + name + '!')\n",
        "\n",
        "\n",
        "def guess_age():\n",
        "    print(\"\\nLet me guess your age. Do not worry, I won't add more years than your actual age ;-)\")\n",
        "    print('\\nEnter remainders of dividing your age by 3, 5 and 7 -> one by one please')\n",
        "\n",
        "    rem3 = int(input())\n",
        "    rem5 = int(input())\n",
        "    rem7 = int(input())\n",
        "    age = (rem3 * 70 + rem5 * 21 + rem7 * 15) % 105\n",
        "\n",
        "    print(\"\\nYour age is \" + str(age) + \"; that's a good time to start programming!\")\n",
        "\n",
        "\n",
        "def count():\n",
        "    print('\\nLets have fun, tell me a number and I will count till that number for you!\\nCome on! Let me revise too!')\n",
        "\n",
        "    num = int(input())\n",
        "    curr = 0\n",
        "    while curr <= num:\n",
        "        print(curr, '!')\n",
        "        curr = curr + 1\n",
        "\n",
        "\n",
        "def test():\n",
        "    print(\"\\nLet me ask you some basic stuff about programming.\")\n",
        "\n",
        "    print('\\nWhy do we use methods?')\n",
        "    print('1. To repeat a statement multiple times.')\n",
        "    print('2. To decompose a program into several small subroutines.')\n",
        "    print('3. To determine the execution time of a program.')\n",
        "    print('4. To interrupt the execution of a program.')\n",
        "    print('So, which of the options make you feel -> \"Yes, thats the one!\"')\n",
        "\n",
        "    possible_answer = 0\n",
        "    while possible_answer != 2:\n",
        "        possible_answer = int(input())\n",
        "        if possible_answer != 2:\n",
        "            print('Please, try again.')\n",
        "\n",
        "\n",
        "def end():\n",
        "    print('\\nCongratulations,You are right! It was nice to see you!\\n Have a great day!')\n",
        "\n",
        "\n",
        "greet('Happy_Volley', '2022')  # change it as you need\n",
        "remind_name()\n",
        "guess_age()\n",
        "count()\n",
        "# ...\n",
        "test()\n",
        "end()\n"
      ]
    }
  ]
}