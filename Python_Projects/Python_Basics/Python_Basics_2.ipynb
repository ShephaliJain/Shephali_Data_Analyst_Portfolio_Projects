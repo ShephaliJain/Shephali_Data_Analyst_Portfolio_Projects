{
 "cells": [
  {
   "cell_type": "code",
   "execution_count": 1,
   "metadata": {},
   "outputs": [
    {
     "name": "stdout",
     "output_type": "stream",
     "text": [
      "x > y  is False\n",
      "x < y  is True\n",
      "x == y is False\n",
      "x != y is True\n",
      "x >= y is False\n",
      "x <= y is True\n"
     ]
    }
   ],
   "source": [
    "x = 10; y = 12\n",
    "# Output: x > y is False\n",
    "print('x > y  is',x>y)\n",
    "# Output: x < y is True\n",
    "print('x < y  is',x<y)\n",
    "# Output: x == y is False\n",
    "print('x == y is',x==y)\n",
    "# Output: x != y is True\n",
    "print('x != y is',x!=y)\n",
    "# Output: x >= y is False\n",
    "print('x >= y is',x>=y)\n",
    "# Output: x <= y is True\n",
    "print('x <= y is',x<=y)\n"
   ]
  },
  {
   "cell_type": "code",
   "execution_count": 2,
   "metadata": {},
   "outputs": [
    {
     "name": "stdout",
     "output_type": "stream",
     "text": [
      "Enter first side: 5\n",
      "Enter second side:6\n",
      "Enter third side:7\n",
      "14.696938456699069\n"
     ]
    }
   ],
   "source": [
    "a = 5\n",
    "b = 6\n",
    "c = 7\n",
    "# Uncomment below to take inputs from the user\n",
    "a=float(input('Enter first side: '))\n",
    "b = float(input('Enter second side:'))\n",
    "c = float(input('Enter third side:'))\n",
    "# calculate the semi-perimeter\n",
    "s = (a + b + c) / 2\n",
    "# calculate the area\n",
    "area = (s*(s-a)*(s-b)*(s-c)) ** 0.5\n",
    "print(area) #based on the dynamic user input"
   ]
  },
  {
   "cell_type": "code",
   "execution_count": 3,
   "metadata": {},
   "outputs": [
    {
     "name": "stdout",
     "output_type": "stream",
     "text": [
      "14.696938456699069\n"
     ]
    }
   ],
   "source": [
    "print(area) #this is calculated based on the hadcoded values in above cell"
   ]
  },
  {
   "cell_type": "code",
   "execution_count": 4,
   "metadata": {},
   "outputs": [
    {
     "name": "stdout",
     "output_type": "stream",
     "text": [
      "40\n",
      "35\n"
     ]
    }
   ],
   "source": [
    "#negative indexing example\n",
    "a = [5,10,15,20,25,30,35,40]\n",
    "print(a[-1]) #yields 40\n",
    "print(a[-2]) #yields 35\n"
   ]
  },
  {
   "cell_type": "code",
   "execution_count": 5,
   "metadata": {},
   "outputs": [
    {
     "name": "stdout",
     "output_type": "stream",
     "text": [
      "[10, 15, 20]\n",
      "[15, 20, 25, 30, 35, 40]\n",
      "[5, 10, 15]\n"
     ]
    }
   ],
   "source": [
    "#slicing examples\n",
    "a = [5,10,15,20,25,30,35,40]\n",
    "print(a[1:4]) #yields [3, 4, 7]\n",
    "print(a[2:]) #yields [4, 7]\n",
    "print(a[:3]) #yields [1, 3, 4]\n"
   ]
  },
  {
   "cell_type": "code",
   "execution_count": 6,
   "metadata": {},
   "outputs": [
    {
     "name": "stdout",
     "output_type": "stream",
     "text": [
      "[11, 42, 43, 44, 45, 46]\n"
     ]
    }
   ],
   "source": [
    "#insert example\n",
    "a=[11, 42, 44, 45, 46]\n",
    "a.insert(2,43)\n",
    "print(a)#yields a = [11, 42, 43, 44, 45, 46]\n"
   ]
  },
  {
   "cell_type": "code",
   "execution_count": 7,
   "metadata": {},
   "outputs": [
    {
     "name": "stdout",
     "output_type": "stream",
     "text": [
      "[1, 5, 7]\n"
     ]
    }
   ],
   "source": [
    "#delete example\n",
    "numbers=[1,3,5,7]\n",
    "del numbers[1]\n",
    "print(numbers) #yields [1, 5, 7]\n"
   ]
  },
  {
   "cell_type": "code",
   "execution_count": 8,
   "metadata": {},
   "outputs": [
    {
     "name": "stdout",
     "output_type": "stream",
     "text": [
      "Hello, Paul. Good morning!\n"
     ]
    }
   ],
   "source": [
    "def greet(name):\n",
    "#This function greets tothe person passed in as parameter\"\"\"\t\n",
    "    print(\"Hello, \" + name + \". Good morning!\")\n",
    "#Invoke\n",
    "greet('Paul')  #output Hello, Paul. Good morning!\n"
   ]
  },
  {
   "cell_type": "code",
   "execution_count": 9,
   "metadata": {},
   "outputs": [
    {
     "name": "stdout",
     "output_type": "stream",
     "text": [
      "6.0\n",
      "6.582805886043833\n",
      "3.0\n"
     ]
    }
   ],
   "source": [
    "#example of using numpy functions\n",
    "import numpy as np\n",
    "#define a collection of data values\n",
    "data=[0,1,1,2,3,5,8,13,21]\n",
    "#print the mean\n",
    "print(np.mean(data)) #yields 6.0\n",
    "#print the standard deviation\n",
    "print(np.std(data)) #yields 6.582805886043833\n",
    "#print the median\n",
    "print(np.median(data)) #yields 3.0\n"
   ]
  },
  {
   "cell_type": "code",
   "execution_count": 10,
   "metadata": {},
   "outputs": [
    {
     "name": "stdout",
     "output_type": "stream",
     "text": [
      "[1. 1. 1. 1.]\n"
     ]
    }
   ],
   "source": [
    "import numpy as np # importing this way allows us to refer to numpy as np\n",
    "#create an array from a list\n",
    "mylist = [1., 2., 3., 4.]\n",
    "mynparray = np.array(mylist)\n",
    "mynparray\n",
    "#initialize an array with 1s\n",
    "one_vector = np.ones(4)\n",
    "print(one_vector) # using print removes the array() portion\n",
    "#create a two dimensional array and initialize with zeros\n",
    "np.array=np.zeros((2,3))\n"
   ]
  },
  {
   "cell_type": "code",
   "execution_count": 11,
   "metadata": {},
   "outputs": [
    {
     "name": "stdout",
     "output_type": "stream",
     "text": [
      "81\n"
     ]
    }
   ],
   "source": [
    "x = 9\n",
    "x **= 2\n",
    "print(x)"
   ]
  },
  {
   "cell_type": "code",
   "execution_count": 12,
   "metadata": {},
   "outputs": [
    {
     "name": "stdout",
     "output_type": "stream",
     "text": [
      "[11, 3, 55, 23]\n"
     ]
    }
   ],
   "source": [
    "numbers = [11, 3, 45, 23]\n",
    "numbers[2]=numbers[2]+10\n",
    "print(numbers)"
   ]
  },
  {
   "cell_type": "code",
   "execution_count": 13,
   "metadata": {},
   "outputs": [
    {
     "name": "stdout",
     "output_type": "stream",
     "text": [
      "18.990000000000002\n"
     ]
    }
   ],
   "source": [
    "def get_total_price(price_after_tax, driver_tip):\n",
    "    delivery_fee = 3\n",
    "    driver_tip = driver_tip*1.5\n",
    "    total = price_after_tax + delivery_fee + driver_tip\n",
    "    return total\n",
    "\n",
    "total_price = get_total_price(12.99, 2)\n",
    "print(total_price)"
   ]
  },
  {
   "cell_type": "code",
   "execution_count": 14,
   "metadata": {},
   "outputs": [
    {
     "name": "stdout",
     "output_type": "stream",
     "text": [
      "a = 30\n",
      "a = 20\n",
      "a = 10\n"
     ]
    }
   ],
   "source": [
    "def outer_function():    \n",
    "    a = 20    \n",
    "    def inner_function():        \n",
    "        a = 30        \n",
    "        print('a =',a)    \n",
    "    inner_function()    \n",
    "    print('a =',a)     \n",
    "a = 10\n",
    "outer_function()\n",
    "print('a =',a)\n"
   ]
  }
 ],
 "metadata": {
  "kernelspec": {
   "display_name": "Python 3 (ipykernel)",
   "language": "python",
   "name": "python3"
  },
  "language_info": {
   "codemirror_mode": {
    "name": "ipython",
    "version": 3
   },
   "file_extension": ".py",
   "mimetype": "text/x-python",
   "name": "python",
   "nbconvert_exporter": "python",
   "pygments_lexer": "ipython3",
   "version": "3.9.7"
  }
 },
 "nbformat": 4,
 "nbformat_minor": 2
}
